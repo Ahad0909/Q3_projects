{
  "nbformat": 4,
  "nbformat_minor": 0,
  "metadata": {
    "colab": {
      "provenance": [],
      "authorship_tag": "ABX9TyNpTKEZQMYgCjhHxmpDKd/o",
      "include_colab_link": true
    },
    "kernelspec": {
      "name": "python3",
      "display_name": "Python 3"
    },
    "language_info": {
      "name": "python"
    }
  },
  "cells": [
    {
      "cell_type": "markdown",
      "metadata": {
        "id": "view-in-github",
        "colab_type": "text"
      },
      "source": [
        "<a href=\"https://colab.research.google.com/github/Ahad0909/Q3_projects/blob/main/Project_2_guess_the_number_game(computer).ipynb\" target=\"_parent\"><img src=\"https://colab.research.google.com/assets/colab-badge.svg\" alt=\"Open In Colab\"/></a>"
      ]
    },
    {
      "cell_type": "code",
      "execution_count": 10,
      "metadata": {
        "colab": {
          "base_uri": "https://localhost:8080/"
        },
        "id": "3FK1boCv4952",
        "outputId": "7af6231e-b522-43de-edf8-2a6ce2235a66"
      },
      "outputs": [
        {
          "output_type": "stream",
          "name": "stdout",
          "text": [
            "Think a number between 1 till 10🤨\n",
            "write your number computer will guess it7\n",
            "Computer's first guess is: 2\n",
            "Is this guess correct? (greater or smaller or correct):smaller\n",
            "too low\n",
            "Computer's new guess is: 4\n",
            "Is this guess correct? (greater or smaller or correct):smaller\n",
            "too low\n",
            "Computer's new guess is: 7\n",
            "Is this guess correct? (greater or smaller or correct):correct\n",
            "Yayy! Computer guess is correct✔✔\n"
          ]
        }
      ],
      "source": [
        "import random\n",
        "print(\"Think a number between 1 till 10🤨\")\n",
        "user_input = int(input(\"write your number computer will guess it\"))\n",
        "\n",
        "computer_num = random.randint(1,10)\n",
        "print(f\"Computer's first guess is: {computer_num}\")\n",
        "\n",
        "\n",
        "while True:\n",
        " feedback = input(\"Is this guess correct? (greater or smaller or correct):\")\n",
        "\n",
        " if feedback == \"correct\":\n",
        "   print(\"Yayy! Computer guess is correct✔✔\")\n",
        "   break\n",
        " elif feedback == \"smaller\":\n",
        "   print(\"too low\")\n",
        " elif feedback == greater:\n",
        "   print(\"high...\")\n",
        " else:\n",
        "   print(\"wrong input..\")\n",
        "\n",
        " computer_num = random.randint(1,10)\n",
        " print(f\"Computer's new guess is: {computer_num}\")\n"
      ]
    }
  ]
}