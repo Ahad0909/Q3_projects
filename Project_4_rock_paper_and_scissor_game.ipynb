{
  "nbformat": 4,
  "nbformat_minor": 0,
  "metadata": {
    "colab": {
      "provenance": [],
      "authorship_tag": "ABX9TyMYEkZ0C0zKBymDfx6O9s6A",
      "include_colab_link": true
    },
    "kernelspec": {
      "name": "python3",
      "display_name": "Python 3"
    },
    "language_info": {
      "name": "python"
    }
  },
  "cells": [
    {
      "cell_type": "markdown",
      "metadata": {
        "id": "view-in-github",
        "colab_type": "text"
      },
      "source": [
        "<a href=\"https://colab.research.google.com/github/Ahad0909/Q3_projects/blob/main/Project_4_rock_paper_and_scissor_game.ipynb\" target=\"_parent\"><img src=\"https://colab.research.google.com/assets/colab-badge.svg\" alt=\"Open In Colab\"/></a>"
      ]
    },
    {
      "cell_type": "code",
      "execution_count": 10,
      "metadata": {
        "colab": {
          "base_uri": "https://localhost:8080/"
        },
        "id": "8vUW28Vt1pN7",
        "outputId": "ecefd019-794a-49ba-b0eb-b4917461abd2"
      },
      "outputs": [
        {
          "output_type": "stream",
          "name": "stdout",
          "text": [
            "Choose Rock , Paper or Scissor: Paper\n",
            "Computer Choose : Scissor\n",
            "Computer Wins!\n",
            "Do you want to play again? (yes/no):yes\n",
            "Choose Rock , Paper or Scissor: Paper\n",
            "Computer Choose : Rock\n",
            "YOU WIN! 😍😍👍\n",
            "Do you want to play again? (yes/no):no\n",
            "Well Played! Thanks For Playing\n"
          ]
        }
      ],
      "source": [
        "import random\n",
        "choices = [\"Rock\", \"Paper\", \"Scissor\"]\n",
        "\n",
        "while True:\n",
        "  user_choice = input(\"Choose Rock , Paper or Scissor: \")\n",
        "\n",
        "  if user_choice not in choices:\n",
        "    print(\"Wrong Choice! Only enter Rock, Paper or Scissor\")\n",
        "    continue\n",
        "\n",
        "  computer_choice = random.choice(choices)\n",
        "  print(f\"Computer Choose : {computer_choice}\")\n",
        "\n",
        "  if user_choice == computer_choice:\n",
        "    print(\"Match Draw! both choose the same!\")\n",
        "  elif (user_choice == \"Rock\" and computer_choice == \"Scissor\") or \\\n",
        "       (user_choice == \"Paper\" and computer_choice == \"Rock\") or \\\n",
        "       (user_choice == \"Scissor\" and computer_choice == \"Paper\") :\n",
        "       print(\"YOU WIN! 😍😍👍\")\n",
        "  else:\n",
        "    print(\"Computer Wins!\")\n",
        "\n",
        "  play_again =  input(\"Do you want to play again? (yes/no):\")\n",
        "  if play_again != \"yes\":\n",
        "    print(\"Well Played! Thanks For Playing\")\n",
        "    break\n",
        "\n",
        "\n",
        "\n",
        "\n"
      ]
    }
  ]
}