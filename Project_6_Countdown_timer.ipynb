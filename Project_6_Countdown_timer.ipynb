{
  "nbformat": 4,
  "nbformat_minor": 0,
  "metadata": {
    "colab": {
      "provenance": [],
      "authorship_tag": "ABX9TyOf64QjHM/hW8kUeeRKBKIy",
      "include_colab_link": true
    },
    "kernelspec": {
      "name": "python3",
      "display_name": "Python 3"
    },
    "language_info": {
      "name": "python"
    }
  },
  "cells": [
    {
      "cell_type": "markdown",
      "metadata": {
        "id": "view-in-github",
        "colab_type": "text"
      },
      "source": [
        "<a href=\"https://colab.research.google.com/github/Ahad0909/Q3_projects/blob/main/Project_6_Countdown_timer.ipynb\" target=\"_parent\"><img src=\"https://colab.research.google.com/assets/colab-badge.svg\" alt=\"Open In Colab\"/></a>"
      ]
    },
    {
      "cell_type": "code",
      "execution_count": 9,
      "metadata": {
        "colab": {
          "base_uri": "https://localhost:8080/"
        },
        "id": "eiQK5KTCQXic",
        "outputId": "c2a6fabc-6925-4b3e-e87a-a5d013d0e9ef"
      },
      "outputs": [
        {
          "output_type": "stream",
          "name": "stdout",
          "text": [
            "Enter the countdown time in seconds: 10\n",
            "Time Left : 10 seconds \n",
            "Time Left : 9 seconds \n",
            "Time Left : 8 seconds \n",
            "Time Left : 7 seconds \n",
            "Time Left : 6 seconds \n",
            "Time Left : 5 seconds \n",
            "Time Left : 4 seconds \n",
            "Time Left : 3 seconds \n",
            "Time Left : 2 seconds \n",
            "Time Left : 1 seconds \n",
            "Game Over!\n"
          ]
        }
      ],
      "source": [
        "import time\n",
        "\n",
        "def countdown_timer():\n",
        "  seconds = 0\n",
        "  while True:\n",
        "   try:\n",
        "    user_input = int(input(\"Enter the countdown time in seconds: \"))\n",
        "    seconds += user_input\n",
        "    break\n",
        "   except ValueError:\n",
        "    print(\"Invalid Input!\")\n",
        "    continue\n",
        "  for i in range(seconds,0,-1):\n",
        "    print(f\"Time Left : {i} seconds \")\n",
        "    time.sleep(1)\n",
        "  print(\"Game Over!\")\n",
        "\n",
        "countdown_timer()"
      ]
    }
  ]
}