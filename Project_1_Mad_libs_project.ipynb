{
  "nbformat": 4,
  "nbformat_minor": 0,
  "metadata": {
    "colab": {
      "provenance": [],
      "authorship_tag": "ABX9TyNijgwK0pJoT2Rr8cf4E1w1",
      "include_colab_link": true
    },
    "kernelspec": {
      "name": "python3",
      "display_name": "Python 3"
    },
    "language_info": {
      "name": "python"
    }
  },
  "cells": [
    {
      "cell_type": "markdown",
      "metadata": {
        "id": "view-in-github",
        "colab_type": "text"
      },
      "source": [
        "<a href=\"https://colab.research.google.com/github/Ahad0909/Q3_projects/blob/main/Project_1_Mad_libs_project.ipynb\" target=\"_parent\"><img src=\"https://colab.research.google.com/assets/colab-badge.svg\" alt=\"Open In Colab\"/></a>"
      ]
    },
    {
      "cell_type": "code",
      "execution_count": 6,
      "metadata": {
        "colab": {
          "base_uri": "https://localhost:8080/"
        },
        "id": "OYXsGdOUm9hg",
        "outputId": "94b8c8f6-9c9a-4298-f939-a27d81702120"
      },
      "outputs": [
        {
          "output_type": "stream",
          "name": "stdout",
          "text": [
            "Enter Your Name...ahad\n",
            "Enter City Name...karachi\n",
            "Enter suitable verb..play\n",
            "Enter any aniaml Name..cats\n",
            "Enter adjective..beautiful\n",
            "ahad lives in karachi .karachi is a big city.ahad love to play with beautiful cats\n"
          ]
        }
      ],
      "source": [
        "def Madlibs():\n",
        "  name = str(input(\"Enter Your Name...\"))\n",
        "  city = str(input(\"Enter City Name...\"))\n",
        "  verb = str(input(\"Enter suitable verb..\"))\n",
        "  animal = str(input(\"Enter any aniaml Name..\"))\n",
        "  adjective = str(input(\"Enter adjective..\"))\n",
        "\n",
        "  play = f\"{name} lives in {city} .{city} is a big city.{name} love to {verb} with {adjective} {animal}\"\n",
        "  print(play)\n",
        "Madlibs()"
      ]
    }
  ]
}