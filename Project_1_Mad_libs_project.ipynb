{
  "nbformat": 4,
  "nbformat_minor": 0,
  "metadata": {
    "colab": {
      "provenance": [],
      "authorship_tag": "ABX9TyNijgwK0pJoT2Rr8cf4E1w1",
      "include_colab_link": true
    },
    "kernelspec": {
      "name": "python3",
      "display_name": "Python 3"
    },
    "language_info": {
      "name": "python"
    }
  },
  "cells": [
    {
      "cell_type": "markdown",
      "metadata": {
        "id": "view-in-github",
        "colab_type": "text"
      },
      "source": [
        "<a href=\"https://colab.research.google.com/github/Ahad0909/Q3_projects/blob/main/Project_1_Mad_libs_project.ipynb\" target=\"_parent\"><img src=\"https://colab.research.google.com/assets/colab-badge.svg\" alt=\"Open In Colab\"/></a>"
      ]
    },
    {
      "cell_type": "code",
      "execution_count": 5,
      "metadata": {
        "colab": {
          "base_uri": "https://localhost:8080/"
        },
        "id": "OYXsGdOUm9hg",
        "outputId": "6f67a824-3818-4afa-9159-63cf97901316"
      },
      "outputs": [
        {
          "output_type": "stream",
          "name": "stdout",
          "text": [
            "Enter Your Name...hhj\n",
            "Enter City Name...gyfuy\n",
            "Enter suitable verb..guuy\n",
            "Enter any aniaml Name..gfyuuy\n",
            "Enter adjective..dh\n",
            "hhj lives in gyfuy .gyfuy is a big city.hhj love to guuy with dh gfyuuy\n"
          ]
        }
      ],
      "source": [
        "def Madlibs():\n",
        "  name = str(input(\"Enter Your Name...\"))\n",
        "  city = str(input(\"Enter City Name...\"))\n",
        "  verb = str(input(\"Enter suitable verb..\"))\n",
        "  animal = str(input(\"Enter any aniaml Name..\"))\n",
        "  adjective = str(input(\"Enter adjective..\"))\n",
        "\n",
        "  play = f\"{name} lives in {city} .{city} is a big city.{name} love to {verb} with {adjective} {animal}\"\n",
        "  print(play)\n",
        "Madlibs()"
      ]
    }
  ]
}