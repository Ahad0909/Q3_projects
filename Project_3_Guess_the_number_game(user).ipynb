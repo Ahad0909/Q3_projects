{
  "nbformat": 4,
  "nbformat_minor": 0,
  "metadata": {
    "colab": {
      "provenance": [],
      "authorship_tag": "ABX9TyN0bY3tBEgVqX7tNlaFrGMY",
      "include_colab_link": true
    },
    "kernelspec": {
      "name": "python3",
      "display_name": "Python 3"
    },
    "language_info": {
      "name": "python"
    }
  },
  "cells": [
    {
      "cell_type": "markdown",
      "metadata": {
        "id": "view-in-github",
        "colab_type": "text"
      },
      "source": [
        "<a href=\"https://colab.research.google.com/github/Ahad0909/Q3_projects/blob/main/Project_3_Guess_the_number_game(user).ipynb\" target=\"_parent\"><img src=\"https://colab.research.google.com/assets/colab-badge.svg\" alt=\"Open In Colab\"/></a>"
      ]
    },
    {
      "cell_type": "code",
      "execution_count": 7,
      "metadata": {
        "colab": {
          "base_uri": "https://localhost:8080/"
        },
        "id": "xx3JmMxvpIpp",
        "outputId": "9d253baa-d26b-4710-845b-dae3c8920fbb"
      },
      "outputs": [
        {
          "output_type": "stream",
          "name": "stdout",
          "text": [
            "Computer Thought a number.Now guess it\n",
            "Guess the Number between 1 till 10. : 4\n",
            "Incorrect! please guess bigger number.\n",
            "Guess the Number between 1 till 10. : 5\n",
            "Incorrect! please guess bigger number.\n",
            "Guess the Number between 1 till 10. : 6\n",
            "Incorrect! please guess bigger number.\n",
            "Guess the Number between 1 till 10. : 7\n",
            "Incorrect! please guess bigger number.\n",
            "Guess the Number between 1 till 10. : 8\n",
            "Wow! your guess is correct\n"
          ]
        }
      ],
      "source": [
        "import random\n",
        "print(\"Computer Thought a number.Now guess it\")\n",
        "secret_number = random.randint(1,10)\n",
        "\n",
        "try:\n",
        "  while True:\n",
        "    user_input = int(input(\"Guess the Number between 1 till 10. : \"))\n",
        "\n",
        "    if user_input == secret_number:\n",
        "      print(\"Wow! your guess is correct😜😜👌\")\n",
        "      break\n",
        "    elif user_input < secret_number:\n",
        "      print(\"Incorrect! please guess bigger number.\")\n",
        "    elif user_input > secret_number:\n",
        "      print(\"Incorrect! please guess smaller number.\")\n",
        "except ValueError:\n",
        "  print(\"wrong input!\")"
      ]
    }
  ]
}