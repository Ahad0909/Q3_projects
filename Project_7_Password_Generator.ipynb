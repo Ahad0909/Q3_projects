{
  "nbformat": 4,
  "nbformat_minor": 0,
  "metadata": {
    "colab": {
      "provenance": [],
      "authorship_tag": "ABX9TyPoAiQ682s09KN6/csIqvvt",
      "include_colab_link": true
    },
    "kernelspec": {
      "name": "python3",
      "display_name": "Python 3"
    },
    "language_info": {
      "name": "python"
    }
  },
  "cells": [
    {
      "cell_type": "markdown",
      "metadata": {
        "id": "view-in-github",
        "colab_type": "text"
      },
      "source": [
        "<a href=\"https://colab.research.google.com/github/Ahad0909/Q3_projects/blob/main/Project_7_Password_Generator.ipynb\" target=\"_parent\"><img src=\"https://colab.research.google.com/assets/colab-badge.svg\" alt=\"Open In Colab\"/></a>"
      ]
    },
    {
      "cell_type": "code",
      "execution_count": 2,
      "metadata": {
        "colab": {
          "base_uri": "https://localhost:8080/"
        },
        "id": "dsmRiL1EY4N2",
        "outputId": "e5b17858-e859-4c45-89d2-449a20feec2b"
      },
      "outputs": [
        {
          "output_type": "stream",
          "name": "stdout",
          "text": [
            "Enter The length of the Password: 9\n",
            "Generated Password :  oHn#R#zIv\n"
          ]
        }
      ],
      "source": [
        "import string\n",
        "import random\n",
        "\n",
        "def generate_password(digit):\n",
        "  characters = string.ascii_letters + string.digits + \"!@#$%^&\"\n",
        "  return \"\".join(random.choice(characters) for i in range(digit))\n",
        "\n",
        "user_input = int(input(\"Enter The length of the Password: \"))\n",
        "if user_input < 8:\n",
        "  print(\"Password length must be greater than 8 digits\")\n",
        "else:\n",
        "  Password = generate_password(user_input)\n",
        "  print(\"Generated Password : \", Password)\n",
        "\n"
      ]
    }
  ]
}