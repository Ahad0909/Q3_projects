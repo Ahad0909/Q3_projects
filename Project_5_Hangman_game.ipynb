{
  "nbformat": 4,
  "nbformat_minor": 0,
  "metadata": {
    "colab": {
      "provenance": [],
      "authorship_tag": "ABX9TyPfwKS8902/D/yvQE0BXp/D",
      "include_colab_link": true
    },
    "kernelspec": {
      "name": "python3",
      "display_name": "Python 3"
    },
    "language_info": {
      "name": "python"
    }
  },
  "cells": [
    {
      "cell_type": "markdown",
      "metadata": {
        "id": "view-in-github",
        "colab_type": "text"
      },
      "source": [
        "<a href=\"https://colab.research.google.com/github/Ahad0909/Q3_projects/blob/main/Project_5_Hangman_game.ipynb\" target=\"_parent\"><img src=\"https://colab.research.google.com/assets/colab-badge.svg\" alt=\"Open In Colab\"/></a>"
      ]
    },
    {
      "cell_type": "code",
      "source": [],
      "metadata": {
        "id": "6-Lxpi6BOls9"
      },
      "execution_count": null,
      "outputs": []
    },
    {
      "cell_type": "code",
      "execution_count": 15,
      "metadata": {
        "colab": {
          "base_uri": "https://localhost:8080/"
        },
        "id": "3RoUMgUgJaV5",
        "outputId": "f4e23144-3b3b-4065-f735-7e77ad567894"
      },
      "outputs": [
        {
          "output_type": "stream",
          "name": "stdout",
          "text": [
            "Welcome To Hangman Game\n",
            "word : _  _  _  _  _  _  _   \n",
            "Guessed Letter: \n",
            "Remaining Moves : 6 \n",
            "Enter any letter : a\n",
            "Good Guess!\n",
            "Welcome To Hangman Game\n",
            "word : _  _  _  _  _  a _   \n",
            "Guessed Letter: a\n",
            "Remaining Moves : 6 \n",
            "Enter any letter : n\n",
            "Bad/Wrong Guess\n",
            "Welcome To Hangman Game\n",
            "word : _  _  _  _  _  a _   \n",
            "Guessed Letter: n a\n",
            "Remaining Moves : 5 \n",
            "Enter any letter : m\n",
            "Good Guess!\n",
            "Welcome To Hangman Game\n",
            "word : _  _  _  _  _  a m  \n",
            "Guessed Letter: m n a\n",
            "Remaining Moves : 5 \n",
            "Enter any letter : r\n",
            "Good Guess!\n",
            "Welcome To Hangman Game\n",
            "word : _  r _  _  r a m  \n",
            "Guessed Letter: r m n a\n",
            "Remaining Moves : 5 \n",
            "Enter any letter : o\n",
            "Good Guess!\n",
            "Welcome To Hangman Game\n",
            "word : _  r o _  r a m  \n",
            "Guessed Letter: r m n o a\n",
            "Remaining Moves : 5 \n",
            "Enter any letter : p\n",
            "Good Guess!\n",
            "Welcome To Hangman Game\n",
            "word : p r o _  r a m  \n",
            "Guessed Letter: p r m n o a\n",
            "Remaining Moves : 5 \n",
            "Enter any letter : d\n",
            "Bad/Wrong Guess\n",
            "Welcome To Hangman Game\n",
            "word : p r o _  r a m  \n",
            "Guessed Letter: d p r m n o a\n",
            "Remaining Moves : 4 \n",
            "Enter any letter : g\n",
            "Good Guess!\n",
            "Congratulations You have guessed the word: program\n"
          ]
        }
      ],
      "source": [
        "import random\n",
        "\n",
        "words_list = [\"python\" , \"computer\" , \"code\" , \"program\"]\n",
        "def display_word(word,guessed_letters):\n",
        "  display = \"\"\n",
        "  for letter in word:\n",
        "    if letter in guessed_letters:\n",
        "      display += letter\n",
        "    else:\n",
        "      display += \"_ \"\n",
        "    display += \" \"\n",
        "  return display\n",
        "\n",
        "\n",
        "word = random.choice(words_list)\n",
        "guessed_letters = set()\n",
        "moves = 6\n",
        "\n",
        "while moves > 0:\n",
        " print(\"Welcome To Hangman Game\")\n",
        " print(f\"word : {display_word(word,guessed_letters)} \")\n",
        " print(f\"Guessed Letter: {' '.join(guessed_letters)}\")\n",
        " print(f\"Remaining Moves : {moves} \")\n",
        "\n",
        " guess = input(\"Enter any letter : \").lower()\n",
        " guessed_letters.add(guess)\n",
        "\n",
        " if guess in word:\n",
        "  print(\"Good Guess!\")\n",
        " else:\n",
        "   print(\"Bad/Wrong Guess\")\n",
        "   moves -= 1\n",
        " if \"_\" not in display_word(word,guessed_letters):\n",
        "    print(f\"Congratulations You have guessed the word: {word}\")\n",
        "    break"
      ]
    }
  ]
}